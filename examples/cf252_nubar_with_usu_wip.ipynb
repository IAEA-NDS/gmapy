{
 "cells": [
  {
   "cell_type": "markdown",
   "id": "1501aa5d-6228-4146-871f-87ff51713960",
   "metadata": {},
   "source": [
    "# Cf nubar with USU\n",
    "\n",
    "Load the required modules, functions from gmapy\n",
    "and widely used data science packages"
   ]
  },
  {
   "cell_type": "code",
   "execution_count": 1,
   "id": "fd52f05b-ad6c-4a1c-a429-fe13dd4adfcb",
   "metadata": {},
   "outputs": [
    {
     "name": "stderr",
     "output_type": "stream",
     "text": [
      "2025-01-30 14:54:05.054783: I tensorflow/core/util/port.cc:113] oneDNN custom operations are on. You may see slightly different numerical results due to floating-point round-off errors from different computation orders. To turn them off, set the environment variable `TF_ENABLE_ONEDNN_OPTS=0`.\n",
      "2025-01-30 14:54:05.055120: I external/local_tsl/tsl/cuda/cudart_stub.cc:32] Could not find cuda drivers on your machine, GPU will not be used.\n",
      "2025-01-30 14:54:05.057773: I external/local_tsl/tsl/cuda/cudart_stub.cc:32] Could not find cuda drivers on your machine, GPU will not be used.\n",
      "2025-01-30 14:54:05.085660: I tensorflow/core/platform/cpu_feature_guard.cc:210] This TensorFlow binary is optimized to use available CPU instructions in performance-critical operations.\n",
      "To enable the following instructions: AVX2 AVX512F AVX512_VNNI FMA, in other operations, rebuild TensorFlow with the appropriate compiler flags.\n",
      "2025-01-30 14:54:05.549330: W tensorflow/compiler/tf2tensorrt/utils/py_utils.cc:38] TF-TRT Warning: Could not find TensorRT\n"
     ]
    }
   ],
   "source": [
    "import pandas as pd\n",
    "import numpy as np\n",
    "import tensorflow as tf\n",
    "from gmapy.mappings.tf.compound_map_tf \\\n",
    "    import CompoundMap as CompoundMapTF\n",
    "from gmapy.tf_uq.custom_distributions import (\n",
    "    MultivariateNormalLikelihoodWithCovParams,\n",
    ")\n",
    "from gmapy.tf_uq.inference import determine_MAP_estimate\n",
    "from gmapy.tf_uq.inference import generate_MCMC_chain"
   ]
  },
  {
   "cell_type": "markdown",
   "id": "d7141f34-be4e-421c-8181-c9c673ec3905",
   "metadata": {},
   "source": [
    "Next we define the theoretical quantities we want to estimate. Here it is a single one: Cf nubar"
   ]
  },
  {
   "cell_type": "code",
   "execution_count": 2,
   "id": "7e53df76-aabe-41b1-a753-a1fde834f3b9",
   "metadata": {},
   "outputs": [],
   "source": [
    "priortable = pd.DataFrame.from_records([\n",
    "    {'NODE': 'xsid_1', 'REAC': 'MT:1-R1:1', 'ENERGY': 1.0, 'PRIOR': 1.0, 'UNC': 1e4},\n",
    "])\n",
    "priorcov = np.diag(np.square(priortable.UNC))  # not used"
   ]
  },
  {
   "cell_type": "markdown",
   "id": "c045ef69-3186-440b-9bb4-5591a7d2e762",
   "metadata": {},
   "source": [
    "Next we define the experimental quantities. Here they are only nubar measurements. Uncertainty is given absolute"
   ]
  },
  {
   "cell_type": "code",
   "execution_count": 3,
   "id": "b961c51e-440a-4b84-afea-a846ec5d20d9",
   "metadata": {},
   "outputs": [],
   "source": [
    "exptable = pd.DataFrame.from_records([\n",
    "    {'NODE': 'exp_1',  'REAC': 'MT:1-R1:1', 'ENERGY': 1.0, 'DATA': 3.755, 'UNC': 1.618e-2 },\n",
    "    {'NODE': 'exp_2',  'REAC': 'MT:1-R1:1', 'ENERGY': 1.0, 'DATA': 3.783, 'UNC': 8.361e-3 },\n",
    "    {'NODE': 'exp_3',  'REAC': 'MT:1-R1:1', 'ENERGY': 1.0, 'DATA': 3.777, 'UNC': 3.165e-2 },\n",
    "    {'NODE': 'exp_4',  'REAC': 'MT:1-R1:1', 'ENERGY': 1.0, 'DATA': 3.791, 'UNC': 4.041e-2 },\n",
    "    {'NODE': 'exp_5',  'REAC': 'MT:1-R1:1', 'ENERGY': 1.0, 'DATA': 3.819, 'UNC': 3.945e-2 },\n",
    "    {'NODE': 'exp_6',  'REAC': 'MT:1-R1:1', 'ENERGY': 1.0, 'DATA': 3.755, 'UNC': 1.126e-2 },\n",
    "    {'NODE': 'exp_7',  'REAC': 'MT:1-R1:1', 'ENERGY': 1.0, 'DATA': 3.730, 'UNC': 3.006e-2 },\n",
    "    {'NODE': 'exp_8',  'REAC': 'MT:1-R1:1', 'ENERGY': 1.0, 'DATA': 3.740, 'UNC': 1.638e-2 },\n",
    "    {'NODE': 'exp_9',  'REAC': 'MT:1-R1:1', 'ENERGY': 1.0, 'DATA': 3.762, 'UNC': 1.817e-2 },\n",
    "    {'NODE': 'exp_10', 'REAC': 'MT:1-R1:1', 'ENERGY': 1.0, 'DATA': 3.768, 'UNC': 1.142e-2 },\n",
    "    {'NODE': 'exp_11', 'REAC': 'MT:1-R1:1', 'ENERGY': 1.0, 'DATA': 3.764, 'UNC': 2.676e-2 },\n",
    "    {'NODE': 'exp_12', 'REAC': 'MT:1-R1:1', 'ENERGY': 1.0, 'DATA': 3.747, 'UNC': 2.174e-2 },\n",
    "    {'NODE': 'exp_13', 'REAC': 'MT:1-R1:1', 'ENERGY': 1.0, 'DATA': 3.751, 'UNC': 1.737e-2 },\n",
    "    {'NODE': 'exp_14', 'REAC': 'MT:1-R1:1', 'ENERGY': 1.0, 'DATA': 3.753, 'UNC': 1.839e-2 },\n",
    "    {'NODE': 'exp_15', 'REAC': 'MT:1-R1:1', 'ENERGY': 1.0, 'DATA': 3.783, 'UNC': 2.871e-2 },\n",
    "])\n",
    "expcov = np.diag(np.square(exptable.UNC / exptable.DATA))"
   ]
  },
  {
   "cell_type": "markdown",
   "id": "1dda8b31-8108-491e-acf7-369981cddba3",
   "metadata": {},
   "source": [
    "We define variables that are convenient to be used later, such as number of physical quantities to estimate `num_params` and the number of unknown parameters in the covariance matrix. Here we are using one shared usu component."
   ]
  },
  {
   "cell_type": "code",
   "execution_count": 4,
   "id": "2940baae-773d-41d2-9196-69cb63a0e93a",
   "metadata": {},
   "outputs": [],
   "source": [
    "# some convenient shortcuts\n",
    "priorvals = priortable.PRIOR.to_numpy()\n",
    "expvals = exptable.DATA.to_numpy()\n",
    "\n",
    "num_params = len(priorvals)\n",
    "num_covpars = 1 \n",
    "num_allpars = num_params + num_covpars"
   ]
  },
  {
   "cell_type": "markdown",
   "id": "521b0c2c-4f75-41a9-883d-8a419b45aa9a",
   "metadata": {},
   "source": [
    "We combine the prior of physical quantities with the unknown USU uncertainty component"
   ]
  },
  {
   "cell_type": "code",
   "execution_count": 5,
   "id": "67cf6d7f-6b14-40fe-a10a-ba0a969b638c",
   "metadata": {},
   "outputs": [],
   "source": [
    "covpars = np.full(num_covpars, 0.)\n",
    "ext_priorvals = tf.concat([priorvals, covpars], axis=0)\n",
    "\n",
    "# prepare extended "
   ]
  },
  {
   "cell_type": "markdown",
   "id": "ae8530c7-52df-4907-8536-ef102654f11d",
   "metadata": {},
   "source": [
    "The prior table `priortable` and the experimental table `exptable` contain all the information to create a `mapping` object that knows how to propagate the values associated with the physical quantities to the ones stored in `exptable`"
   ]
  },
  {
   "cell_type": "code",
   "execution_count": 6,
   "id": "9310bb0e-d405-4fda-8aec-b200872ec195",
   "metadata": {},
   "outputs": [],
   "source": [
    "compmap = CompoundMapTF((priortable, exptable), reduce=True)"
   ]
  },
  {
   "cell_type": "markdown",
   "id": "0291fed4-9b2d-4913-bff1-d1100ca531ce",
   "metadata": {},
   "source": [
    "Next, we define a function that returns a `LinearOperator` objects (in principle just a matrix) to represent the experimental covariance matrix that includes the USU component. The value of the USU component is passed to this function."
   ]
  },
  {
   "cell_type": "code",
   "execution_count": 7,
   "id": "3e4f5026-0621-4ae9-ab56-cce9efcb6060",
   "metadata": {},
   "outputs": [
    {
     "data": {
      "text/plain": [
       "<tensorflow.python.ops.linalg.linear_operator_full_matrix.LinearOperatorFullMatrix at 0x7ff3199eed10>"
      ]
     },
     "execution_count": 7,
     "metadata": {},
     "output_type": "execute_result"
    }
   ],
   "source": [
    "def like_cov_fun(usu_unc):\n",
    "    expcov_tf = tf.constant(expcov)\n",
    "    usu_var = tf.square(usu_unc)\n",
    "    size = tf.shape(expcov_tf)[0] \n",
    "    repeated_usu_var = tf.repeat(usu_var, size) \n",
    "    usu_cov = tf.linalg.diag(repeated_usu_var)\n",
    "    # calculate total covariance matrix\n",
    "    expcov_with_usu = tf.linalg.LinearOperatorFullMatrix(expcov_tf + usu_cov)\n",
    "    return expcov_with_usu\n",
    "\n",
    "\n",
    "# REMOVE: testing\n",
    "usu_uncs = tf.constant(1, dtype=tf.float64)\n",
    "like_cov_fun(usu_uncs)"
   ]
  },
  {
   "cell_type": "markdown",
   "id": "ca95b795-25b7-4b5e-8843-e08856119165",
   "metadata": {},
   "source": [
    "TODO"
   ]
  },
  {
   "cell_type": "code",
   "execution_count": 8,
   "id": "badcc006-fb95-4217-a553-eaa90e6f924f",
   "metadata": {},
   "outputs": [],
   "source": [
    "covpars = np.full(num_covpars, 1.)\n",
    "ext_priorvals = tf.concat([priorvals, covpars], axis=0)"
   ]
  },
  {
   "cell_type": "markdown",
   "id": "d2708a87-ddea-4e64-9e59-fc956cfff669",
   "metadata": {},
   "source": [
    "The `compmap` objects has two methods `propagate` and `jacobian` that are needed for Maximum Likelihood Estimation and also the MCMC sampling. We can use tensorflow functionality to speed up their calculation (by compilation)"
   ]
  },
  {
   "cell_type": "code",
   "execution_count": 9,
   "id": "dd6b528b-e694-4d63-9047-32b3461d9e18",
   "metadata": {},
   "outputs": [],
   "source": [
    "propfun = tf.function(compmap.propagate)\n",
    "jacfun = tf.function(compmap.jacobian)"
   ]
  },
  {
   "cell_type": "markdown",
   "id": "327e7028-158b-443c-97eb-918c0f54eec0",
   "metadata": {},
   "source": [
    "We use these two functions and the experimental data with their covariance matrix to define the multivariate normal distribution"
   ]
  },
  {
   "cell_type": "code",
   "execution_count": 10,
   "id": "2d4cd0cd-50fa-4c7e-86e1-b1e92ca46701",
   "metadata": {},
   "outputs": [],
   "source": [
    "likelihood = MultivariateNormalLikelihoodWithCovParams(\n",
    "    num_params, num_covpars,\n",
    "    propfun, jacfun,\n",
    "    expvals, like_cov_fun,\n",
    "    approximate_hessian=True, relative=True\n",
    ")"
   ]
  },
  {
   "cell_type": "markdown",
   "id": "89c506cf-049b-4ec3-8669-eaa4ca5436ac",
   "metadata": {},
   "source": [
    "In principle, we want to sample from the posterior distribution, which is the product of prior and likelihood. However, here we assume for simplicity a flat prior so the posterior is proportional to the likelihood."
   ]
  },
  {
   "cell_type": "code",
   "execution_count": 11,
   "id": "d676840b-7237-42f3-bb58-7e13d60f0b71",
   "metadata": {},
   "outputs": [],
   "source": [
    "post = likelihood "
   ]
  },
  {
   "cell_type": "markdown",
   "id": "91ec0231-3083-405f-b4a6-63d6363fb8c3",
   "metadata": {},
   "source": [
    "For the Maximum Likelihood Estimation (MLE) we need the gradient and the Hessian of the objective function is also helpful. We use again tensorflow to speed up the computation of these quantities."
   ]
  },
  {
   "cell_type": "code",
   "execution_count": 12,
   "id": "6594e7d7-0a26-4fe1-9f53-8f51b04e7c82",
   "metadata": {},
   "outputs": [],
   "source": [
    "neg_log_prob_and_gradient = tf.function(post.neg_log_prob_and_gradient)\n",
    "neg_log_post_hessian = post.neg_log_prob_hessian"
   ]
  },
  {
   "cell_type": "markdown",
   "id": "98cb6065-1389-41e7-b939-bdea74a76234",
   "metadata": {},
   "source": [
    "Now we can do the MLE. The following function is in principle a wrapper around the BFGS optimization algorithm (implemented in `Tensorflow Probability`."
   ]
  },
  {
   "cell_type": "code",
   "execution_count": 13,
   "id": "3ce66a22-379b-4583-abc6-ce019c3408a7",
   "metadata": {},
   "outputs": [
    {
     "name": "stdout",
     "output_type": "stream",
     "text": [
      "#  outer iteration 1\n",
      "-- running inner iteration with 500 iterations\n",
      "WARNING:tensorflow:Using (possibly slow) default implementation of determinant.  Requires conversion to a dense matrix and O(N^3) operations.\n"
     ]
    },
    {
     "name": "stderr",
     "output_type": "stream",
     "text": [
      "2025-01-30 14:54:07.682999: E tensorflow/core/util/util.cc:131] oneDNN supports DT_INT32 only on platforms with AVX-512. Falling back to the default Eigen-based implementation if present.\n"
     ]
    },
    {
     "name": "stdout",
     "output_type": "stream",
     "text": [
      "WARNING:tensorflow:Using (possibly slow) default implementation of determinant.  Requires conversion to a dense matrix and O(N^3) operations.\n",
      "Inner iterations: 22\n"
     ]
    }
   ],
   "source": [
    "optres = determine_MAP_estimate(\n",
    "    ext_priorvals, neg_log_prob_and_gradient,\n",
    "    neg_log_post_hessian, max_inner_iters=500, max_outer_iters=50, nugget=1e-3,\n",
    "    ret_optres=True, must_converge=True\n",
    ")"
   ]
  },
  {
   "cell_type": "markdown",
   "id": "a7ded0a6-ce33-48c1-abdd-6f4399e41bec",
   "metadata": {},
   "source": [
    "The optimization result is available in `optres.position`. We also set the seed for reproducible MCMC chain."
   ]
  },
  {
   "cell_type": "code",
   "execution_count": 14,
   "id": "0f9cf85b-14b2-4879-b183-bd8ff6dec39c",
   "metadata": {},
   "outputs": [],
   "source": [
    "# set seed for MCMC\n",
    "tf.random.set_seed(42)\n",
    "# define essential input quantities for MCMC\n",
    "optvals = optres.position"
   ]
  },
  {
   "cell_type": "markdown",
   "id": "23aa1515-b331-466a-90d7-c0b3cdb6c92a",
   "metadata": {},
   "source": [
    "Now we are running MCMC using Hamiltonian Monte Carlo provided by `Tensorflow Probability` package. The following function is a part of `gmapy` that wraps around the tensorflow probability function."
   ]
  },
  {
   "cell_type": "code",
   "execution_count": 15,
   "id": "1ff45705-571a-4b27-8805-135715a809b1",
   "metadata": {},
   "outputs": [
    {
     "name": "stdout",
     "output_type": "stream",
     "text": [
      "WARNING:tensorflow:Using (possibly slow) default implementation of determinant.  Requires conversion to a dense matrix and O(N^3) operations.\n",
      "WARNING:tensorflow:Using (possibly slow) default implementation of determinant.  Requires conversion to a dense matrix and O(N^3) operations.\n",
      "WARNING:tensorflow:Using (possibly slow) default implementation of determinant.  Requires conversion to a dense matrix and O(N^3) operations.\n",
      "WARNING:tensorflow:Using (possibly slow) default implementation of determinant.  Requires conversion to a dense matrix and O(N^3) operations.\n",
      "37.974676847457886\n"
     ]
    }
   ],
   "source": [
    "import time\n",
    "s1 = time.time()\n",
    "chain, tracing_info = generate_MCMC_chain(\n",
    "    optvals, post.log_prob, post.neg_log_prob_hessian,\n",
    "    nugget=1e-8, step_size=1, num_burnin_steps=int(1e3),\n",
    "    num_results=int(1e4), num_leapfrog_steps=1\n",
    ")\n",
    "s2 = time.time()\n",
    "print(s2-s1)"
   ]
  },
  {
   "cell_type": "markdown",
   "id": "e8a0929d-717c-46ed-ad5e-0edd2b122bbc",
   "metadata": {},
   "source": [
    "The full chain is stored in `chain` for all two variables (nubar and usu uncertainty). We extract this chains into separate variables for convenience."
   ]
  },
  {
   "cell_type": "code",
   "execution_count": 16,
   "id": "146e7889-7490-4888-8734-2fb8cdc696b0",
   "metadata": {},
   "outputs": [],
   "source": [
    "import matplotlib.pyplot as plt\n",
    "\n",
    "chain_np = chain.numpy()\n",
    "\n",
    "nubar_chain = chain_np[:,0]\n",
    "usu_chain = np.abs(chain[:, 1])"
   ]
  },
  {
   "cell_type": "markdown",
   "id": "48e3ab07-8247-47da-9843-5c8ab2d39fd0",
   "metadata": {},
   "source": [
    "We perform some diagnostics to see how many samples we have obtained effectively for nubar and usu uncertainty."
   ]
  },
  {
   "cell_type": "code",
   "execution_count": 17,
   "id": "85777c15-25e7-41c3-81e4-b611365f7ec7",
   "metadata": {},
   "outputs": [
    {
     "name": "stdout",
     "output_type": "stream",
     "text": [
      "21370.75096673589\n",
      "4125.909956404004\n"
     ]
    }
   ],
   "source": [
    "from gmapy.mcmc_inference import compute_effective_sample_size\n",
    "print(compute_effective_sample_size(nubar_chain))\n",
    "print(compute_effective_sample_size(usu_chain))"
   ]
  },
  {
   "cell_type": "code",
   "execution_count": 18,
   "id": "ef302108-425c-4dcd-b6b4-42cda4c60655",
   "metadata": {},
   "outputs": [
    {
     "data": {
      "text/plain": [
       "(array([2.000e+00, 1.000e+00, 3.000e+00, 1.100e+01, 2.900e+01, 3.000e+01,\n",
       "        7.300e+01, 6.900e+01, 1.790e+02, 2.830e+02, 3.960e+02, 6.470e+02,\n",
       "        9.490e+02, 1.081e+03, 1.248e+03, 1.323e+03, 1.108e+03, 9.230e+02,\n",
       "        6.660e+02, 4.480e+02, 2.560e+02, 1.430e+02, 6.700e+01, 2.500e+01,\n",
       "        1.700e+01, 1.300e+01, 7.000e+00, 2.000e+00, 0.000e+00, 1.000e+00]),\n",
       " array([3.7380486 , 3.73973408, 3.74141956, 3.74310504, 3.74479052,\n",
       "        3.746476  , 3.74816148, 3.74984696, 3.75153244, 3.75321792,\n",
       "        3.75490339, 3.75658887, 3.75827435, 3.75995983, 3.76164531,\n",
       "        3.76333079, 3.76501627, 3.76670175, 3.76838723, 3.7700727 ,\n",
       "        3.77175818, 3.77344366, 3.77512914, 3.77681462, 3.7785001 ,\n",
       "        3.78018558, 3.78187106, 3.78355654, 3.78524202, 3.78692749,\n",
       "        3.78861297]),\n",
       " <BarContainer object of 30 artists>)"
      ]
     },
     "execution_count": 18,
     "metadata": {},
     "output_type": "execute_result"
    },
    {
     "data": {
      "image/png": "[encoded data removed]",
      "text/plain": [
       "<Figure size 640x480 with 1 Axes>"
      ]
     },
     "metadata": {},
     "output_type": "display_data"
    }
   ],
   "source": [
    "plt.hist(nubar_chain, bins=30)"
   ]
  },
  {
   "cell_type": "code",
   "execution_count": 19,
   "id": "1c107704-cbf7-43a6-801f-7eb882daaf2a",
   "metadata": {},
   "outputs": [
    {
     "data": {
      "text/plain": [
       "(array([6.740e+02, 7.410e+02, 9.220e+02, 1.049e+03, 1.212e+03, 1.070e+03,\n",
       "        1.007e+03, 8.470e+02, 6.870e+02, 4.840e+02, 3.900e+02, 2.620e+02,\n",
       "        2.450e+02, 1.430e+02, 7.500e+01, 5.500e+01, 4.600e+01, 2.800e+01,\n",
       "        2.600e+01, 1.500e+01, 5.000e+00, 8.000e+00, 2.000e+00, 1.000e+00,\n",
       "        4.000e+00, 1.000e+00, 0.000e+00, 0.000e+00, 0.000e+00, 1.000e+00]),\n",
       " array([6.86502565e-07, 4.41913412e-04, 8.83140321e-04, 1.32436723e-03,\n",
       "        1.76559414e-03, 2.20682105e-03, 2.64804796e-03, 3.08927487e-03,\n",
       "        3.53050178e-03, 3.97172869e-03, 4.41295559e-03, 4.85418250e-03,\n",
       "        5.29540941e-03, 5.73663632e-03, 6.17786323e-03, 6.61909014e-03,\n",
       "        7.06031705e-03, 7.50154396e-03, 7.94277087e-03, 8.38399778e-03,\n",
       "        8.82522469e-03, 9.26645160e-03, 9.70767851e-03, 1.01489054e-02,\n",
       "        1.05901323e-02, 1.10313592e-02, 1.14725861e-02, 1.19138131e-02,\n",
       "        1.23550400e-02, 1.27962669e-02, 1.32374938e-02]),\n",
       " <BarContainer object of 30 artists>)"
      ]
     },
     "execution_count": 19,
     "metadata": {},
     "output_type": "execute_result"
    },
    {
     "data": {
      "image/png": "[encoded data removed]",
      "text/plain": [
       "<Figure size 640x480 with 1 Axes>"
      ]
     },
     "metadata": {},
     "output_type": "display_data"
    }
   ],
   "source": [
    "plt.hist(usu_chain, bins=30)"
   ]
  },
  {
   "cell_type": "code",
   "execution_count": 20,
   "id": "ee67ecfe-15c5-4ec7-830b-bb39a390f61b",
   "metadata": {},
   "outputs": [
    {
     "name": "stdout",
     "output_type": "stream",
     "text": [
      "3.7631865725354983\n",
      "0.001467197537705996\n"
     ]
    }
   ],
   "source": [
    "nubar_eval = np.mean(nubar_chain)\n",
    "nubar_unc = np.std(nubar_chain)\n",
    "print(nubar_eval)\n",
    "print(nubar_unc / nubar_eval)"
   ]
  },
  {
   "cell_type": "code",
   "execution_count": 21,
   "id": "995c4695-33e3-40f1-ba93-0e162c487b17",
   "metadata": {},
   "outputs": [
    {
     "name": "stdout",
     "output_type": "stream",
     "text": [
      "0.0025865287450289333\n",
      "0.0016202405961243751\n"
     ]
    }
   ],
   "source": [
    "usu_eval = np.mean(usu_chain)\n",
    "usu_unc = np.std(usu_chain)\n",
    "print(usu_eval)\n",
    "print(usu_unc)"
   ]
  }
 ],
 "metadata": {
  "kernelspec": {
   "display_name": "Python 3 (ipykernel)",
   "language": "python",
   "name": "python3"
  },
  "language_info": {
   "codemirror_mode": {
    "name": "ipython",
    "version": 3
   },
   "file_extension": ".py",
   "mimetype": "text/x-python",
   "name": "python",
   "nbconvert_exporter": "python",
   "pygments_lexer": "ipython3",
   "version": "3.10.12"
  }
 },
 "nbformat": 4,
 "nbformat_minor": 5
}
