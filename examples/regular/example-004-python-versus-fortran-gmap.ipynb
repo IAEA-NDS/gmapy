{
 "cells": [
  {
   "cell_type": "markdown",
   "id": "c5c527e2",
   "metadata": {},
   "source": [
    "# Compare Python GMAP with legacy GMAP\n",
    "\n",
    "In this notebook we compare results from GMAP obtained with different options.\n",
    "\n",
    "First we load required packages:"
   ]
  },
  {
   "cell_type": "code",
   "execution_count": 1,
   "id": "43dbe43f",
   "metadata": {},
   "outputs": [],
   "source": [
    "import sys\n",
    "sys.path.append('../..')\n",
    "import numpy as np\n",
    "import pandas as pd\n",
    "from gmapy.legacy.legacy_gmap import run_gmap"
   ]
  },
  {
   "cell_type": "markdown",
   "id": "d65417a8",
   "metadata": {},
   "source": [
    "We use a database file from the unittests. This file is also the basis for the neutron standards evaluation 2017."
   ]
  },
  {
   "cell_type": "code",
   "execution_count": 2,
   "id": "91dee693",
   "metadata": {},
   "outputs": [],
   "source": [
    "dbfile = '../../tests/testdata/data-2017-07-26.gma'"
   ]
  },
  {
   "cell_type": "markdown",
   "id": "96664d8d",
   "metadata": {},
   "source": [
    "## Calculations with PPP correction\n",
    "\n",
    "The Fortran version allowed to modes of execution. Uncertainties given in percentage in the database file could be interpreted as relative to the experimental data points or as relative to the fitted cross sections. The latter mode can be activated with the argument `correct_ppp=True`. The Fortran version had a bug in the calculation of the experimental correlation matrix, which was corrected in the Python version. However, also the Python version can be run with the bug via the specification `fix_ppp_bug=False`. Here we perform two calculations, one with the bug and another one without it. Another bug in the Fortran code was an incorrectly computed sensitivity matrix for SACS (=spectrum averaged cross section) measurements. This bug be activated by the argument `fix_sacs_jacbian=False`, but it's impact on the results based on this database file is insignificant (about 0.005%). **Finally, please note that iterating the GLS method will not converge to the maximum of the posterior distribution if PPP corrections are enabled.**"
   ]
  },
  {
   "cell_type": "code",
   "execution_count": 3,
   "id": "ff175909",
   "metadata": {},
   "outputs": [],
   "source": [
    "%%capture \n",
    "res1 = run_gmap(dbfile, dbtype='legacy', num_iter=3, correct_ppp=True,\n",
    "                fix_ppp_bug=False, fix_sacs_jacobian=False, legacy_output=False)\n",
    "\n",
    "res2 = run_gmap(dbfile, dbtype='legacy', num_iter=3, correct_ppp=True,\n",
    "                fix_ppp_bug=True, fix_sacs_jacobian=True, legacy_output=False)"
   ]
  },
  {
   "cell_type": "markdown",
   "id": "04279636",
   "metadata": {},
   "source": [
    "*Note*: The `%%capture` statement is there to discard the output of this cell, which would otherwise produce a warning about a division by zero caused by some experimental dataset."
   ]
  },
  {
   "cell_type": "markdown",
   "id": "de49e8ca",
   "metadata": {},
   "source": [
    "## Calculation without PPP correction\n",
    "\n",
    "We also include a calculation without the PPP correction (`correct_ppp=False`) in the comparison.\n",
    "The bug (`fix_ppp_bug=False`) in the previous section has no impact on the result in this case. "
   ]
  },
  {
   "cell_type": "code",
   "execution_count": 4,
   "id": "085446a8",
   "metadata": {},
   "outputs": [],
   "source": [
    "%%capture\n",
    "res_noppp = run_gmap(dbfile, dbtype='legacy', num_iter=3, correct_ppp=False, legacy_output=False)"
   ]
  },
  {
   "cell_type": "markdown",
   "id": "b5f7484c",
   "metadata": {},
   "source": [
    "### Preparation of the comparison table\n",
    "\n",
    "The result table as returned by `run_gmap` not only contains the estimates of the cross sections but also the estimates of the normalization factors associated with so-called shape experiments (i.e., measurements affected by an unknown scaling factor). Furthermore, it contains the fission spectrum which is, however, assumed to be perfectly known and therefore not adjusted. In order to retrieve the updated cross sections, we filter the unwanted rows from the result tables. To this end, we use the fact that the `NODE` column of all cross sections starts with `xsid`."
   ]
  },
  {
   "cell_type": "code",
   "execution_count": 5,
   "id": "28e5ecca",
   "metadata": {},
   "outputs": [],
   "source": [
    "rres1 = res1['table'][res1['table'].NODE.str.match('xsid')].copy()\n",
    "rres2 = res2['table'][res2['table'].NODE.str.match('xsid')].copy()\n",
    "rres_noppp = res_noppp['table'][res_noppp['table'].NODE.str.match('xsid')].copy()"
   ]
  },
  {
   "cell_type": "markdown",
   "id": "eb15ecd1",
   "metadata": {},
   "source": [
    "Now we create a comparison table with the results, including uncertainties, of all three calculations and display it."
   ]
  },
  {
   "cell_type": "code",
   "execution_count": 6,
   "id": "b350b7b8",
   "metadata": {},
   "outputs": [
    {
     "data": {
      "text/html": [
       "<div>\n",
       "<style scoped>\n",
       "    .dataframe tbody tr th:only-of-type {\n",
       "        vertical-align: middle;\n",
       "    }\n",
       "\n",
       "    .dataframe tbody tr th {\n",
       "        vertical-align: top;\n",
       "    }\n",
       "\n",
       "    .dataframe thead th {\n",
       "        text-align: right;\n",
       "    }\n",
       "</style>\n",
       "<table border=\"1\" class=\"dataframe\">\n",
       "  <thead>\n",
       "    <tr style=\"text-align: right;\">\n",
       "      <th></th>\n",
       "      <th>REAC</th>\n",
       "      <th>ENERGY</th>\n",
       "      <th>ForGMAP</th>\n",
       "      <th>ForGMAP-UNC</th>\n",
       "      <th>PyGMAP</th>\n",
       "      <th>PyGMAP-UNC</th>\n",
       "      <th>For/PyGMAP-noppp</th>\n",
       "      <th>For/PyGMAP-noppp-UNC</th>\n",
       "      <th>RELERR</th>\n",
       "      <th>RELERR2</th>\n",
       "    </tr>\n",
       "  </thead>\n",
       "  <tbody>\n",
       "    <tr>\n",
       "      <th>0</th>\n",
       "      <td>6Li(n,a)</td>\n",
       "      <td>2.530000e-08</td>\n",
       "      <td>938.130881</td>\n",
       "      <td>0.544432</td>\n",
       "      <td>938.131177</td>\n",
       "      <td>0.544431</td>\n",
       "      <td>938.151536</td>\n",
       "      <td>0.544671</td>\n",
       "      <td>3.153103e-07</td>\n",
       "      <td>0.000543</td>\n",
       "    </tr>\n",
       "    <tr>\n",
       "      <th>1</th>\n",
       "      <td>6Li(n,a)</td>\n",
       "      <td>9.400000e-06</td>\n",
       "      <td>48.639692</td>\n",
       "      <td>0.028207</td>\n",
       "      <td>48.639696</td>\n",
       "      <td>0.028207</td>\n",
       "      <td>48.640807</td>\n",
       "      <td>0.028220</td>\n",
       "      <td>8.358777e-08</td>\n",
       "      <td>0.000144</td>\n",
       "    </tr>\n",
       "    <tr>\n",
       "      <th>2</th>\n",
       "      <td>6Li(n,a)</td>\n",
       "      <td>1.500000e-04</td>\n",
       "      <td>12.160778</td>\n",
       "      <td>0.004038</td>\n",
       "      <td>12.160772</td>\n",
       "      <td>0.004038</td>\n",
       "      <td>12.160907</td>\n",
       "      <td>0.004039</td>\n",
       "      <td>5.053357e-07</td>\n",
       "      <td>0.001522</td>\n",
       "    </tr>\n",
       "    <tr>\n",
       "      <th>3</th>\n",
       "      <td>6Li(n,a)</td>\n",
       "      <td>2.500000e-04</td>\n",
       "      <td>9.413062</td>\n",
       "      <td>0.003676</td>\n",
       "      <td>9.413054</td>\n",
       "      <td>0.003676</td>\n",
       "      <td>9.413174</td>\n",
       "      <td>0.003677</td>\n",
       "      <td>8.632639e-07</td>\n",
       "      <td>0.002211</td>\n",
       "    </tr>\n",
       "    <tr>\n",
       "      <th>4</th>\n",
       "      <td>6Li(n,a)</td>\n",
       "      <td>3.500000e-04</td>\n",
       "      <td>7.951957</td>\n",
       "      <td>0.003027</td>\n",
       "      <td>7.951949</td>\n",
       "      <td>0.003027</td>\n",
       "      <td>7.952045</td>\n",
       "      <td>0.003028</td>\n",
       "      <td>1.100589e-06</td>\n",
       "      <td>0.002891</td>\n",
       "    </tr>\n",
       "    <tr>\n",
       "      <th>...</th>\n",
       "      <td>...</td>\n",
       "      <td>...</td>\n",
       "      <td>...</td>\n",
       "      <td>...</td>\n",
       "      <td>...</td>\n",
       "      <td>...</td>\n",
       "      <td>...</td>\n",
       "      <td>...</td>\n",
       "      <td>...</td>\n",
       "      <td>...</td>\n",
       "    </tr>\n",
       "    <tr>\n",
       "      <th>958</th>\n",
       "      <td>SS-PU1</td>\n",
       "      <td>2.530000e-08</td>\n",
       "      <td>11.927023</td>\n",
       "      <td>2.574226</td>\n",
       "      <td>11.928748</td>\n",
       "      <td>2.574599</td>\n",
       "      <td>11.942983</td>\n",
       "      <td>2.583492</td>\n",
       "      <td>1.446801e-04</td>\n",
       "      <td>0.000670</td>\n",
       "    </tr>\n",
       "    <tr>\n",
       "      <th>959</th>\n",
       "      <td>SF-PU1</td>\n",
       "      <td>2.530000e-08</td>\n",
       "      <td>1023.918068</td>\n",
       "      <td>10.808002</td>\n",
       "      <td>1023.798550</td>\n",
       "      <td>10.806693</td>\n",
       "      <td>1022.798588</td>\n",
       "      <td>10.767231</td>\n",
       "      <td>1.167260e-04</td>\n",
       "      <td>0.011058</td>\n",
       "    </tr>\n",
       "    <tr>\n",
       "      <th>960</th>\n",
       "      <td>SG-PU1</td>\n",
       "      <td>2.530000e-08</td>\n",
       "      <td>361.801318</td>\n",
       "      <td>6.151239</td>\n",
       "      <td>361.794384</td>\n",
       "      <td>6.151121</td>\n",
       "      <td>361.743671</td>\n",
       "      <td>6.147610</td>\n",
       "      <td>1.916717e-05</td>\n",
       "      <td>0.001127</td>\n",
       "    </tr>\n",
       "    <tr>\n",
       "      <th>961</th>\n",
       "      <td>NU-PU1</td>\n",
       "      <td>2.530000e-08</td>\n",
       "      <td>2.939857</td>\n",
       "      <td>0.006445</td>\n",
       "      <td>2.939901</td>\n",
       "      <td>0.006445</td>\n",
       "      <td>2.940121</td>\n",
       "      <td>0.006447</td>\n",
       "      <td>1.486287e-05</td>\n",
       "      <td>0.006780</td>\n",
       "    </tr>\n",
       "    <tr>\n",
       "      <th>962</th>\n",
       "      <td>NU-CF2</td>\n",
       "      <td>2.530000e-08</td>\n",
       "      <td>3.763472</td>\n",
       "      <td>0.004886</td>\n",
       "      <td>3.763494</td>\n",
       "      <td>0.004886</td>\n",
       "      <td>3.763577</td>\n",
       "      <td>0.004886</td>\n",
       "      <td>5.716111e-06</td>\n",
       "      <td>0.004403</td>\n",
       "    </tr>\n",
       "  </tbody>\n",
       "</table>\n",
       "<p>963 rows × 10 columns</p>\n",
       "</div>"
      ],
      "text/plain": [
       "         REAC        ENERGY      ForGMAP  ForGMAP-UNC       PyGMAP  \\\n",
       "0    6Li(n,a)  2.530000e-08   938.130881     0.544432   938.131177   \n",
       "1    6Li(n,a)  9.400000e-06    48.639692     0.028207    48.639696   \n",
       "2    6Li(n,a)  1.500000e-04    12.160778     0.004038    12.160772   \n",
       "3    6Li(n,a)  2.500000e-04     9.413062     0.003676     9.413054   \n",
       "4    6Li(n,a)  3.500000e-04     7.951957     0.003027     7.951949   \n",
       "..        ...           ...          ...          ...          ...   \n",
       "958    SS-PU1  2.530000e-08    11.927023     2.574226    11.928748   \n",
       "959    SF-PU1  2.530000e-08  1023.918068    10.808002  1023.798550   \n",
       "960    SG-PU1  2.530000e-08   361.801318     6.151239   361.794384   \n",
       "961    NU-PU1  2.530000e-08     2.939857     0.006445     2.939901   \n",
       "962    NU-CF2  2.530000e-08     3.763472     0.004886     3.763494   \n",
       "\n",
       "     PyGMAP-UNC  For/PyGMAP-noppp  For/PyGMAP-noppp-UNC        RELERR  \\\n",
       "0      0.544431        938.151536              0.544671  3.153103e-07   \n",
       "1      0.028207         48.640807              0.028220  8.358777e-08   \n",
       "2      0.004038         12.160907              0.004039  5.053357e-07   \n",
       "3      0.003676          9.413174              0.003677  8.632639e-07   \n",
       "4      0.003027          7.952045              0.003028  1.100589e-06   \n",
       "..          ...               ...                   ...           ...   \n",
       "958    2.574599         11.942983              2.583492  1.446801e-04   \n",
       "959   10.806693       1022.798588             10.767231  1.167260e-04   \n",
       "960    6.151121        361.743671              6.147610  1.916717e-05   \n",
       "961    0.006445          2.940121              0.006447  1.486287e-05   \n",
       "962    0.004886          3.763577              0.004886  5.716111e-06   \n",
       "\n",
       "      RELERR2  \n",
       "0    0.000543  \n",
       "1    0.000144  \n",
       "2    0.001522  \n",
       "3    0.002211  \n",
       "4    0.002891  \n",
       "..        ...  \n",
       "958  0.000670  \n",
       "959  0.011058  \n",
       "960  0.001127  \n",
       "961  0.006780  \n",
       "962  0.004403  \n",
       "\n",
       "[963 rows x 10 columns]"
      ]
     },
     "execution_count": 6,
     "metadata": {},
     "output_type": "execute_result"
    }
   ],
   "source": [
    "relerr = np.abs(rres1.POST - rres2.POST) / np.abs(rres1.POST+1e-8)\n",
    "relerr2 = np.abs(rres1.POST - rres2.POST) / rres1.POSTUNC\n",
    "cmptable = pd.DataFrame.from_dict({'REAC': rres1.DESCR, 'ENERGY': rres1.ENERGY, \n",
    "                                   'ForGMAP': rres1.POST, 'ForGMAP-UNC': rres1.POSTUNC,\n",
    "                                   'PyGMAP': rres2.POST, 'PyGMAP-UNC': rres2.POSTUNC,\n",
    "                                   'For/PyGMAP-noppp': rres_noppp.POST, 'For/PyGMAP-noppp-UNC': rres_noppp.POSTUNC,\n",
    "                                   'RELERR': relerr, 'RELERR2': relerr2})\n",
    "cmptable"
   ]
  },
  {
   "cell_type": "markdown",
   "id": "f2619743",
   "metadata": {},
   "source": [
    "We may want to save this dataframe as an Excel file for further investigation:"
   ]
  },
  {
   "cell_type": "code",
   "execution_count": 10,
   "id": "0b12f9e4",
   "metadata": {
    "scrolled": false
   },
   "outputs": [
    {
     "name": "stdout",
     "output_type": "stream",
     "text": [
      "`pandas` requires the `openpyxl` package to save `.xlsx` files\n"
     ]
    }
   ],
   "source": [
    "try:\n",
    "    cmptable.to_excel('gmap_comparison.xlsx')\n",
    "except ModuleNotFoundError:\n",
    "    print('`pandas` requires the `openpyxl` package to save `.xlsx` files')"
   ]
  }
 ],
 "metadata": {
  "kernelspec": {
   "display_name": "Python 3 (ipykernel)",
   "language": "python",
   "name": "python3"
  },
  "language_info": {
   "codemirror_mode": {
    "name": "ipython",
    "version": 3
   },
   "file_extension": ".py",
   "mimetype": "text/x-python",
   "name": "python",
   "nbconvert_exporter": "python",
   "pygments_lexer": "ipython3",
   "version": "3.9.15"
  }
 },
 "nbformat": 4,
 "nbformat_minor": 5
}
