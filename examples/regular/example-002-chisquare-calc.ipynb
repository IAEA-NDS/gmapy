{
 "cells": [
  {
   "cell_type": "markdown",
   "id": "5cd81b79",
   "metadata": {},
   "source": [
    "# Calculation of chisquare of the GMA database\n",
    "\n",
    "This notebook shows how to do a fit with the `gmapy` package and determine the chisquare value of the database.\n",
    "\n",
    "\n",
    "## Load necessary libraries"
   ]
  },
  {
   "cell_type": "code",
   "execution_count": 1,
   "id": "ecb21482",
   "metadata": {},
   "outputs": [],
   "source": [
    "import sys\n",
    "sys.path.append('../..')  # so that gmapy can be found\n",
    "import numpy as np\n",
    "from scipy.sparse.linalg import spsolve\n",
    "from gmapy.legacy.legacy_gmap import run_gmap\n",
    "from gmapy.mappings.compound_map import CompoundMap\n",
    "dbfile = '../../tests/testdata/data-2017-07-26.gma'"
   ]
  },
  {
   "cell_type": "markdown",
   "id": "32b1519a",
   "metadata": {},
   "source": [
    "## Perform the fit"
   ]
  },
  {
   "cell_type": "code",
   "execution_count": 2,
   "id": "e19a0a91",
   "metadata": {
    "scrolled": true
   },
   "outputs": [],
   "source": [
    "%%capture\n",
    "res = run_gmap(dbfile, dbtype='legacy', num_iter=3, fix_ppp_bug=True, fix_sacs_jacobian=True, legacy_output=False)"
   ]
  },
  {
   "cell_type": "markdown",
   "id": "bb2c5aa8",
   "metadata": {},
   "source": [
    "## Calculate the chisquare by df value\n",
    "\n",
    "Prepare the quantities needed to compute the chisquare value."
   ]
  },
  {
   "cell_type": "code",
   "execution_count": 3,
   "id": "3aef08b0",
   "metadata": {},
   "outputs": [],
   "source": [
    "compmap = CompoundMap()\n",
    "datatable = res['table'].copy()\n",
    "postvals = datatable['POST'].to_numpy()\n",
    "preds = compmap.propagate(postvals, datatable)\n",
    "expsel = datatable.NODE.str.match('exp_')\n",
    "expidcs = np.ravel(np.array(np.where(expsel)))\n",
    "expvals = datatable.loc[expidcs, 'DATA'].to_numpy()\n",
    "preds = preds[expidcs]\n",
    "d = expvals - preds\n",
    "expcov = res['priorcov'][np.ix_(expidcs, expidcs)]"
   ]
  },
  {
   "cell_type": "markdown",
   "id": "31ddb060",
   "metadata": {},
   "source": [
    "Evaluate the chisquare by df value"
   ]
  },
  {
   "cell_type": "code",
   "execution_count": 4,
   "id": "6511fb3c",
   "metadata": {},
   "outputs": [
    {
     "name": "stdout",
     "output_type": "stream",
     "text": [
      "0.7961857222863135\n"
     ]
    }
   ],
   "source": [
    "chisqr_df = float(d.T @ spsolve(expcov, d) / len(expvals))\n",
    "print(chisqr_df)"
   ]
  },
  {
   "cell_type": "markdown",
   "id": "2a869378",
   "metadata": {},
   "source": [
    "Remove the dummy datapoints as they are always set to equal the prediction and recompute the chisquare by df value"
   ]
  },
  {
   "cell_type": "code",
   "execution_count": 5,
   "id": "ecaf37ea",
   "metadata": {},
   "outputs": [
    {
     "name": "stdout",
     "output_type": "stream",
     "text": [
      "0.8922323463074535\n"
     ]
    }
   ],
   "source": [
    "sel = np.logical_not(datatable.loc[expidcs,'NODE'].str.match('exp_90[0-9]'))\n",
    "chisqr_df2 = float(d[sel].T @ spsolve(expcov[np.ix_(sel,sel)], d[sel]) / len(expvals[sel]))\n",
    "print(chisqr_df2)"
   ]
  }
 ],
 "metadata": {
  "kernelspec": {
   "display_name": "Python 3 (ipykernel)",
   "language": "python",
   "name": "python3"
  },
  "language_info": {
   "codemirror_mode": {
    "name": "ipython",
    "version": 3
   },
   "file_extension": ".py",
   "mimetype": "text/x-python",
   "name": "python",
   "nbconvert_exporter": "python",
   "pygments_lexer": "ipython3",
   "version": "3.9.15"
  }
 },
 "nbformat": 4,
 "nbformat_minor": 5
}
